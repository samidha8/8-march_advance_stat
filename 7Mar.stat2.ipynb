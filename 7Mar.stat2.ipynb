{
 "cells": [
  {
   "cell_type": "markdown",
   "id": "e2899fda-5f4a-492a-afc6-c305f9382c3a",
   "metadata": {},
   "source": [
    "Q1. What are the three measures of central tendency?"
   ]
  },
  {
   "cell_type": "markdown",
   "id": "6c7605f4-4882-4337-8a51-c1dec50083e5",
   "metadata": {},
   "source": [
    "Mean, Media ,Mode"
   ]
  },
  {
   "cell_type": "markdown",
   "id": "b809878c-6c5d-482d-95c3-894331d57587",
   "metadata": {},
   "source": [
    "Q2. What is the difference between the mean, median, and mode? How are they used to measure the\n",
    "central tendency of a dataset?"
   ]
  },
  {
   "cell_type": "markdown",
   "id": "0755f836-cf0b-4bef-b13e-c8c1d5007e01",
   "metadata": {},
   "source": [
    "Mean is the average value of the given observations\n",
    "Median is the middle value of the given observations\n",
    "Mode is the most repeated value in the given observation"
   ]
  },
  {
   "cell_type": "code",
   "execution_count": 1,
   "id": "294bd880-c045-4c1f-aba9-8ba39a47d8f8",
   "metadata": {},
   "outputs": [],
   "source": [
    "age=[12,21,23,45,65,23,44,34]"
   ]
  },
  {
   "cell_type": "code",
   "execution_count": 2,
   "id": "045a81be-aca5-4476-8845-ab4846720c6e",
   "metadata": {},
   "outputs": [
    {
     "data": {
      "text/plain": [
       "33.375"
      ]
     },
     "execution_count": 2,
     "metadata": {},
     "output_type": "execute_result"
    }
   ],
   "source": [
    "# The average age is 33.37\n",
    "import numpy as np\n",
    "np.mean(age)"
   ]
  },
  {
   "cell_type": "code",
   "execution_count": 11,
   "id": "38263e87-cdf8-4f29-814b-8ae35f96b566",
   "metadata": {},
   "outputs": [
    {
     "data": {
      "text/plain": [
       "28.5"
      ]
     },
     "execution_count": 11,
     "metadata": {},
     "output_type": "execute_result"
    }
   ],
   "source": [
    "#8 values are there means it it even dataset hence middle 2 values will get and and div by 2\n",
    "np.median(age)"
   ]
  },
  {
   "cell_type": "code",
   "execution_count": 13,
   "id": "88599fd0-41c3-4c03-8982-9b35de65d9d9",
   "metadata": {},
   "outputs": [
    {
     "name": "stderr",
     "output_type": "stream",
     "text": [
      "/tmp/ipykernel_105/1166886757.py:3: FutureWarning: Unlike other reduction functions (e.g. `skew`, `kurtosis`), the default behavior of `mode` typically preserves the axis it acts along. In SciPy 1.11.0, this behavior will change: the default value of `keepdims` will become False, the `axis` over which the statistic is taken will be eliminated, and the value None will no longer be accepted. Set `keepdims` to True or False to avoid this warning.\n",
      "  stats.mode(age)\n"
     ]
    },
    {
     "data": {
      "text/plain": [
       "ModeResult(mode=array([23]), count=array([2]))"
      ]
     },
     "execution_count": 13,
     "metadata": {},
     "output_type": "execute_result"
    }
   ],
   "source": [
    "#23 age has occure 2 times\n",
    "from scipy import stats\n",
    "stats.mode(age)"
   ]
  },
  {
   "cell_type": "markdown",
   "id": "ac840658-524c-4035-a574-83615220cee6",
   "metadata": {},
   "source": [
    "Q3. Measure the three measures of central tendency for the given height data:"
   ]
  },
  {
   "cell_type": "code",
   "execution_count": 14,
   "id": "a9be91a6-0536-4794-8b39-54615f9a1114",
   "metadata": {},
   "outputs": [],
   "source": [
    "hight= [178,177,176,177,178.2,178,175,179,180,175,178.9,176.2,177,172.5,178,176.5]"
   ]
  },
  {
   "cell_type": "code",
   "execution_count": 15,
   "id": "2a8f3ed2-73fc-4fda-aa81-b9a3fc2db6fa",
   "metadata": {},
   "outputs": [
    {
     "data": {
      "text/plain": [
       "177.01875"
      ]
     },
     "execution_count": 15,
     "metadata": {},
     "output_type": "execute_result"
    }
   ],
   "source": [
    "np.mean(hight)"
   ]
  },
  {
   "cell_type": "code",
   "execution_count": 16,
   "id": "99bab90f-e2c1-46da-85cd-41dc45ec203d",
   "metadata": {},
   "outputs": [
    {
     "data": {
      "text/plain": [
       "177.0"
      ]
     },
     "execution_count": 16,
     "metadata": {},
     "output_type": "execute_result"
    }
   ],
   "source": [
    "np.median(hight)"
   ]
  },
  {
   "cell_type": "code",
   "execution_count": 17,
   "id": "bc060fbb-1bed-464b-947e-06444689bf59",
   "metadata": {},
   "outputs": [
    {
     "name": "stderr",
     "output_type": "stream",
     "text": [
      "/tmp/ipykernel_105/3686679503.py:1: FutureWarning: Unlike other reduction functions (e.g. `skew`, `kurtosis`), the default behavior of `mode` typically preserves the axis it acts along. In SciPy 1.11.0, this behavior will change: the default value of `keepdims` will become False, the `axis` over which the statistic is taken will be eliminated, and the value None will no longer be accepted. Set `keepdims` to True or False to avoid this warning.\n",
      "  stats.mode(hight)\n"
     ]
    },
    {
     "data": {
      "text/plain": [
       "ModeResult(mode=array([177.]), count=array([3]))"
      ]
     },
     "execution_count": 17,
     "metadata": {},
     "output_type": "execute_result"
    }
   ],
   "source": [
    "stats.mode(hight)"
   ]
  },
  {
   "cell_type": "markdown",
   "id": "29530c00-c840-4d98-a7d3-67f7e695699f",
   "metadata": {},
   "source": [
    "Q4. Find the standard deviation for the given data:"
   ]
  },
  {
   "cell_type": "code",
   "execution_count": 4,
   "id": "a8befd01-fdf7-4e85-aff3-d905fe03fb0c",
   "metadata": {},
   "outputs": [
    {
     "data": {
      "text/plain": [
       "1.7885814036548633"
      ]
     },
     "execution_count": 4,
     "metadata": {},
     "output_type": "execute_result"
    }
   ],
   "source": [
    "hight2=[178,177,176,177,178.2,178,175,179,180,175,178.9,176.2,177,172.5,178,176.5]\n",
    "np.std(hight2)"
   ]
  },
  {
   "cell_type": "markdown",
   "id": "7090659a-9ffa-4840-97ac-a0968dc30061",
   "metadata": {},
   "source": [
    "Q5. How are measures of dispersion such as range, variance, and standard deviation used to describe\n",
    "the spread of a dataset? Provide an example."
   ]
  },
  {
   "cell_type": "markdown",
   "id": "096c4fdc-0508-4549-868e-7fa2c27e072d",
   "metadata": {},
   "source": [
    "variance is a measure of dispersion that takes into account the spread of all data points in a data set. It's the measure of dispersion the most often used, along with the standard deviation, which is simply the square root of the variance \n",
    "The range is the difference between the largest and the smallest observation in the data."
   ]
  },
  {
   "cell_type": "code",
   "execution_count": 2,
   "id": "68acb34c-80b3-4df9-acec-df9751863f94",
   "metadata": {},
   "outputs": [
    {
     "data": {
      "text/html": [
       "<div>\n",
       "<style scoped>\n",
       "    .dataframe tbody tr th:only-of-type {\n",
       "        vertical-align: middle;\n",
       "    }\n",
       "\n",
       "    .dataframe tbody tr th {\n",
       "        vertical-align: top;\n",
       "    }\n",
       "\n",
       "    .dataframe thead th {\n",
       "        text-align: right;\n",
       "    }\n",
       "</style>\n",
       "<table border=\"1\" class=\"dataframe\">\n",
       "  <thead>\n",
       "    <tr style=\"text-align: right;\">\n",
       "      <th></th>\n",
       "      <th>carat</th>\n",
       "      <th>cut</th>\n",
       "      <th>color</th>\n",
       "      <th>clarity</th>\n",
       "      <th>depth</th>\n",
       "      <th>table</th>\n",
       "      <th>price</th>\n",
       "      <th>x</th>\n",
       "      <th>y</th>\n",
       "      <th>z</th>\n",
       "    </tr>\n",
       "  </thead>\n",
       "  <tbody>\n",
       "    <tr>\n",
       "      <th>0</th>\n",
       "      <td>0.23</td>\n",
       "      <td>Ideal</td>\n",
       "      <td>E</td>\n",
       "      <td>SI2</td>\n",
       "      <td>61.5</td>\n",
       "      <td>55.0</td>\n",
       "      <td>326</td>\n",
       "      <td>3.95</td>\n",
       "      <td>3.98</td>\n",
       "      <td>2.43</td>\n",
       "    </tr>\n",
       "    <tr>\n",
       "      <th>1</th>\n",
       "      <td>0.21</td>\n",
       "      <td>Premium</td>\n",
       "      <td>E</td>\n",
       "      <td>SI1</td>\n",
       "      <td>59.8</td>\n",
       "      <td>61.0</td>\n",
       "      <td>326</td>\n",
       "      <td>3.89</td>\n",
       "      <td>3.84</td>\n",
       "      <td>2.31</td>\n",
       "    </tr>\n",
       "    <tr>\n",
       "      <th>2</th>\n",
       "      <td>0.23</td>\n",
       "      <td>Good</td>\n",
       "      <td>E</td>\n",
       "      <td>VS1</td>\n",
       "      <td>56.9</td>\n",
       "      <td>65.0</td>\n",
       "      <td>327</td>\n",
       "      <td>4.05</td>\n",
       "      <td>4.07</td>\n",
       "      <td>2.31</td>\n",
       "    </tr>\n",
       "    <tr>\n",
       "      <th>3</th>\n",
       "      <td>0.29</td>\n",
       "      <td>Premium</td>\n",
       "      <td>I</td>\n",
       "      <td>VS2</td>\n",
       "      <td>62.4</td>\n",
       "      <td>58.0</td>\n",
       "      <td>334</td>\n",
       "      <td>4.20</td>\n",
       "      <td>4.23</td>\n",
       "      <td>2.63</td>\n",
       "    </tr>\n",
       "    <tr>\n",
       "      <th>4</th>\n",
       "      <td>0.31</td>\n",
       "      <td>Good</td>\n",
       "      <td>J</td>\n",
       "      <td>SI2</td>\n",
       "      <td>63.3</td>\n",
       "      <td>58.0</td>\n",
       "      <td>335</td>\n",
       "      <td>4.34</td>\n",
       "      <td>4.35</td>\n",
       "      <td>2.75</td>\n",
       "    </tr>\n",
       "  </tbody>\n",
       "</table>\n",
       "</div>"
      ],
      "text/plain": [
       "   carat      cut color clarity  depth  table  price     x     y     z\n",
       "0   0.23    Ideal     E     SI2   61.5   55.0    326  3.95  3.98  2.43\n",
       "1   0.21  Premium     E     SI1   59.8   61.0    326  3.89  3.84  2.31\n",
       "2   0.23     Good     E     VS1   56.9   65.0    327  4.05  4.07  2.31\n",
       "3   0.29  Premium     I     VS2   62.4   58.0    334  4.20  4.23  2.63\n",
       "4   0.31     Good     J     SI2   63.3   58.0    335  4.34  4.35  2.75"
      ]
     },
     "execution_count": 2,
     "metadata": {},
     "output_type": "execute_result"
    }
   ],
   "source": [
    "import seaborn as sns\n",
    "flt= sns.load_dataset('diamonds')\n",
    "flt.head()"
   ]
  },
  {
   "cell_type": "code",
   "execution_count": 28,
   "id": "bfc9a995-a09a-4a7c-8d68-ab0ca369c360",
   "metadata": {},
   "outputs": [
    {
     "name": "stderr",
     "output_type": "stream",
     "text": [
      "/tmp/ipykernel_105/3861516548.py:1: FutureWarning: The default value of numeric_only in DataFrame.var is deprecated. In a future version, it will default to False. In addition, specifying 'numeric_only=None' is deprecated. Select only valid columns or specify the value of numeric_only to silence this warning.\n",
      "  flt.var()\n"
     ]
    },
    {
     "data": {
      "text/plain": [
       "carat    2.246867e-01\n",
       "depth    2.052404e+00\n",
       "table    4.992948e+00\n",
       "price    1.591563e+07\n",
       "x        1.258347e+00\n",
       "y        1.304472e+00\n",
       "z        4.980109e-01\n",
       "dtype: float64"
      ]
     },
     "execution_count": 28,
     "metadata": {},
     "output_type": "execute_result"
    }
   ],
   "source": [
    "flt.var()"
   ]
  },
  {
   "cell_type": "code",
   "execution_count": 5,
   "id": "22271556-7f07-4274-94b7-114feabe3f89",
   "metadata": {},
   "outputs": [
    {
     "data": {
      "text/plain": [
       "<AxesSubplot: xlabel='price', ylabel='Count'>"
      ]
     },
     "execution_count": 5,
     "metadata": {},
     "output_type": "execute_result"
    },
    {
     "data": {
      "image/png": "[encoded data removed]",
      "text/plain": [
       "<Figure size 640x480 with 1 Axes>"
      ]
     },
     "metadata": {},
     "output_type": "display_data"
    }
   ],
   "source": [
    "#want to see spread \n",
    "sns.histplot(flt['price'], kde=True)"
   ]
  },
  {
   "cell_type": "code",
   "execution_count": 13,
   "id": "2e30889b-e6b9-496b-a1ad-b468c1c77c5e",
   "metadata": {},
   "outputs": [
    {
     "name": "stderr",
     "output_type": "stream",
     "text": [
      "/opt/conda/lib/python3.10/site-packages/numpy/core/fromnumeric.py:3430: FutureWarning: In a future version, DataFrame.mean(axis=None) will return a scalar mean over the entire DataFrame. To retain the old behavior, use 'frame.mean(axis=0)' or just 'frame.mean()'\n",
      "  return mean(axis=axis, dtype=dtype, out=out, **kwargs)\n",
      "/opt/conda/lib/python3.10/site-packages/numpy/core/fromnumeric.py:3430: FutureWarning: The default value of numeric_only in DataFrame.mean is deprecated. In a future version, it will default to False. In addition, specifying 'numeric_only=None' is deprecated. Select only valid columns or specify the value of numeric_only to silence this warning.\n",
      "  return mean(axis=axis, dtype=dtype, out=out, **kwargs)\n"
     ]
    },
    {
     "data": {
      "text/plain": [
       "carat       0.797940\n",
       "depth      61.749405\n",
       "table      57.457184\n",
       "price    3932.799722\n",
       "x           5.731157\n",
       "y           5.734526\n",
       "z           3.538734\n",
       "dtype: float64"
      ]
     },
     "execution_count": 13,
     "metadata": {},
     "output_type": "execute_result"
    }
   ],
   "source": [
    "np.mean(flt)"
   ]
  },
  {
   "cell_type": "code",
   "execution_count": 7,
   "id": "b0353ed6-cae5-4109-8fa6-1c22e3c25169",
   "metadata": {},
   "outputs": [
    {
     "name": "stderr",
     "output_type": "stream",
     "text": [
      "/tmp/ipykernel_1466/60445286.py:2: FutureWarning: The default value of numeric_only in DataFrame.std is deprecated. In a future version, it will default to False. In addition, specifying 'numeric_only=None' is deprecated. Select only valid columns or specify the value of numeric_only to silence this warning.\n",
      "  flt.std()\n"
     ]
    },
    {
     "data": {
      "text/plain": [
       "carat       0.474011\n",
       "depth       1.432621\n",
       "table       2.234491\n",
       "price    3989.439738\n",
       "x           1.121761\n",
       "y           1.142135\n",
       "z           0.705699\n",
       "dtype: float64"
      ]
     },
     "execution_count": 7,
     "metadata": {},
     "output_type": "execute_result"
    }
   ],
   "source": [
    "#deviation from mean\n",
    "flt.std()"
   ]
  },
  {
   "cell_type": "code",
   "execution_count": null,
   "id": "c8bec96c-f4b7-4d1c-a3df-46c7d117799f",
   "metadata": {},
   "outputs": [],
   "source": []
  },
  {
   "cell_type": "code",
   "execution_count": null,
   "id": "a86dc30f-7628-49ea-9691-08541f786891",
   "metadata": {},
   "outputs": [],
   "source": [
    "QWhat is a Venn diagram?"
   ]
  },
  {
   "cell_type": "markdown",
   "id": "1fe612ea-ac0d-43cb-8164-a2eadad28c62",
   "metadata": {},
   "source": [
    "A Venn diagram illustrates the relationships between two or more data sets. Venn diagrams are especially useful for highlighting similarities and differences and are commonly used to compare and contrast the characteristics of different data sets. In a Venn diagram, circles are used to represent each data set."
   ]
  },
  {
   "cell_type": "markdown",
   "id": "e52c2bff-6ec9-40b6-945d-6a55140e1839",
   "metadata": {},
   "source": [
    "Q7. For the two given sets A = (2,3,4,5,6,7) & B = (0,2,6,8,10). Find:\n",
    "(i) A B\n",
    "(ii) A ⋃ B"
   ]
  },
  {
   "cell_type": "code",
   "execution_count": 27,
   "id": "7c62b19f-0ce5-4d31-b3af-f7372c521431",
   "metadata": {},
   "outputs": [
    {
     "name": "stdout",
     "output_type": "stream",
     "text": [
      "{2, 6}\n",
      "{0, 2, 3, 4, 5, 6, 7, 8, 10}\n"
     ]
    }
   ],
   "source": [
    "A = {2,3,4,5,6,7}\n",
    "B = {0,2,6,8,10}\n",
    "print(A & B)\n",
    "print(A|B)"
   ]
  },
  {
   "cell_type": "code",
   "execution_count": 28,
   "id": "992d170e-9fa1-44df-bb69-f982659d4294",
   "metadata": {},
   "outputs": [],
   "source": [
    "#OTHER WAY\n",
    "intersection_set = A.intersection(B)"
   ]
  },
  {
   "cell_type": "code",
   "execution_count": 22,
   "id": "25c1a05d-7f99-45cd-bcdf-ab07b36512fb",
   "metadata": {},
   "outputs": [
    {
     "data": {
      "text/plain": [
       "{2, 6}"
      ]
     },
     "execution_count": 22,
     "metadata": {},
     "output_type": "execute_result"
    }
   ],
   "source": [
    "intersection_set"
   ]
  },
  {
   "cell_type": "code",
   "execution_count": 23,
   "id": "c1badac8-cee7-48be-b723-f2a71557768e",
   "metadata": {},
   "outputs": [],
   "source": [
    "union_set = A.union(B)"
   ]
  },
  {
   "cell_type": "code",
   "execution_count": 24,
   "id": "cd58b566-7939-4de0-a33e-8b9a62908cd7",
   "metadata": {},
   "outputs": [
    {
     "data": {
      "text/plain": [
       "{0, 2, 3, 4, 5, 6, 7, 8, 10}"
      ]
     },
     "execution_count": 24,
     "metadata": {},
     "output_type": "execute_result"
    }
   ],
   "source": [
    "union_set"
   ]
  },
  {
   "cell_type": "markdown",
   "id": "aa86df92-a178-481a-aa96-b8a7e88e46e4",
   "metadata": {},
   "source": [
    "Q8. What do you understand about skewness in data?"
   ]
  },
  {
   "cell_type": "markdown",
   "id": "e4a52497-87f5-4e72-8706-18a88213d73d",
   "metadata": {},
   "source": [
    "Skewness is a measure of the asymmetry of a distribution. A distribution is asymmetrical when its left and right side are not mirror images. You might want to calculate the skewness of a distribution to: Describe the distribution of a variable alongside other descriptive statistics.\n",
    "\n",
    "If the skewness is between -0.5 and 0.5, the data are fairly symmetrical.\n",
    "If the skewness is between -1 and – 0.5 or between 0.5 and 1, the data are moderately skewed.\n",
    "If the skewness is less than -1 or greater than 1, the data are highly skewed."
   ]
  },
  {
   "cell_type": "markdown",
   "id": "19a26eec-31b5-471a-b2ad-3405d7778879",
   "metadata": {},
   "source": [
    "Q9. If a data is right skewed then what will be the position of median with respect to mean?"
   ]
  },
  {
   "cell_type": "markdown",
   "id": "9ee2ab55-9b25-4c63-a65b-cd827b621f77",
   "metadata": {},
   "source": [
    "When the distribution is skewed to the right, the mean is often greater than the median"
   ]
  },
  {
   "cell_type": "markdown",
   "id": "01367ecb-8ef4-4176-8ebf-b229a33c7d22",
   "metadata": {},
   "source": [
    "RIGHT SKEWED=MEAN>MEDIA>MODE"
   ]
  },
  {
   "cell_type": "markdown",
   "id": "2ede7572-c797-4093-bc33-1314d2ee63b7",
   "metadata": {},
   "source": [
    "Q10. Explain the difference between covariance and correlation. How are these measures used in\n",
    "statistical analysis?"
   ]
  },
  {
   "cell_type": "markdown",
   "id": "9d824276-817b-4f44-ac09-77aa28822a87",
   "metadata": {},
   "source": [
    "Both covariance and correlation measure the relationship and the dependency between two variablesCovariance is an indicator of the extent to which 2 random variables are dependent on each other. A higher number denotes higher dependency. Correlation is a statistical measure that indicates how strongly two variables are related. The value of covariance lies in the range of -∞ and +∞"
   ]
  },
  {
   "cell_type": "markdown",
   "id": "324aee9c-ff65-415f-9869-e02dec39621d",
   "metadata": {},
   "source": [
    "Covariance is central to the concept of correlation between two variables, as correlation is calculated by dividing the covariance between two variables by the product of their standard deviations."
   ]
  },
  {
   "cell_type": "code",
   "execution_count": null,
   "id": "d9fd44a4-d82f-4349-b526-2e57bce20fc3",
   "metadata": {},
   "outputs": [],
   "source": []
  },
  {
   "cell_type": "markdown",
   "id": "19c68396-4145-4e13-8a03-1b57c5a04f4e",
   "metadata": {},
   "source": [
    "Q11. What is the formula for calculating the sample mean? Provide an example calculation for a\n",
    "dataset."
   ]
  },
  {
   "cell_type": "markdown",
   "id": "a03553ab-f631-43af-b43e-9d8eb9b44d45",
   "metadata": {},
   "source": [
    "Sample mean evaluation is: x̄ =∑xi /n. "
   ]
  },
  {
   "cell_type": "markdown",
   "id": "63506845-7570-4b4f-ad86-cdeb3094a638",
   "metadata": {},
   "source": [
    "Q12. For a normal distribution data what is the relationship between its measure of central tendency?"
   ]
  },
  {
   "cell_type": "markdown",
   "id": "b4821e1c-2464-4ebf-821a-4e4fd41929b1",
   "metadata": {},
   "source": [
    "Any normal distribution has a graph that is perfectly symmetric about a vertical line through its peak. Therefore, all measures of central tendency (most commonly, the mean, median, and mode) give the same answer: the x -value of the peak"
   ]
  },
  {
   "cell_type": "markdown",
   "id": "918d3ef2-8da8-4786-8e61-968b08ac43bf",
   "metadata": {},
   "source": [
    "Q13. How is covariance different from correlation?"
   ]
  },
  {
   "cell_type": "markdown",
   "id": "c85f0f65-224a-48a9-bd51-edfbd8a6972e",
   "metadata": {},
   "source": [
    "Covariance shows you how the two variables differ, whereas correlation shows you how the two variables are related"
   ]
  },
  {
   "cell_type": "markdown",
   "id": "7121cd23-7cfb-4416-8899-558fc94ff5b7",
   "metadata": {},
   "source": [
    " covariance is used to determine how much two random variables vary together, whereas correlation is used to determine when a change in one variable can result in a change in another. Both covariance and correlation measure linear relationships between variables."
   ]
  },
  {
   "cell_type": "markdown",
   "id": "f11dd6d6-e61d-4f06-870b-5db4f5cf3989",
   "metadata": {},
   "source": [
    "Q14. How do outliers affect measures of central tendency and dispersion? Provide an example."
   ]
  },
  {
   "cell_type": "markdown",
   "id": "1bd99601-b612-43fb-9f85-9262e0aff2c5",
   "metadata": {},
   "source": [
    "Outliers Measures of central tendency and dispersion can give misleading impressions of a data set if the set contains one or more outliers. An outlier is a value that is much greater than or much less than most of the other values in a data set."
   ]
  },
  {
   "cell_type": "code",
   "execution_count": null,
   "id": "32245070-9fff-46f1-8822-1a58baf7a1ea",
   "metadata": {},
   "outputs": [],
   "source": []
  },
  {
   "cell_type": "code",
   "execution_count": null,
   "id": "4d922c99-cba0-4306-8346-eb1c802b1f2e",
   "metadata": {},
   "outputs": [],
   "source": []
  },
  {
   "cell_type": "code",
   "execution_count": null,
   "id": "7636c12e-713c-4729-9263-23a61d386e60",
   "metadata": {},
   "outputs": [],
   "source": []
  }
 ],
 "metadata": {
  "kernelspec": {
   "display_name": "Python 3 (ipykernel)",
   "language": "python",
   "name": "python3"
  },
  "language_info": {
   "codemirror_mode": {
    "name": "ipython",
    "version": 3
   },
   "file_extension": ".py",
   "mimetype": "text/x-python",
   "name": "python",
   "nbconvert_exporter": "python",
   "pygments_lexer": "ipython3",
   "version": "3.10.8"
  }
 },
 "nbformat": 4,
 "nbformat_minor": 5
}

{
 "cells": [
  {
   "cell_type": "markdown",
   "id": "b9f8aac3-4345-4a4a-a3e1-70be70b4ec0d",
   "metadata": {},
   "source": [
    "Q1. What is the Probability density function?"
   ]
  },
  {
   "cell_type": "markdown",
   "id": "1df01a64-4302-4596-ae05-c4af83e02586",
   "metadata": {},
   "source": [
    "Probability density function is a function that provides the likelihood that the value of a random variable will fall between a certain range of values. We use the probability density function in the case of continuous random variables. For discrete random variables, we use the probability mass function which is analogous to the probability density functio"
   ]
  },
  {
   "cell_type": "markdown",
   "id": "9b910d97-9d77-4bed-bf9d-51c821f08907",
   "metadata": {},
   "source": [
    "Q2. What are the types of Probability distribution?"
   ]
  },
  {
   "cell_type": "markdown",
   "id": "1c56f146-4f4d-4fea-a89f-2aa24b848ad2",
   "metadata": {},
   "source": [
    "There are two types of probability distributions: Discrete probability distributions. Continuous probability distributions"
   ]
  },
  {
   "cell_type": "code",
   "execution_count": null,
   "id": "7bbe3dcb-70c2-4e6e-811a-8d5543ec52aa",
   "metadata": {},
   "outputs": [],
   "source": []
  },
  {
   "cell_type": "code",
   "execution_count": null,
   "id": "02808a0f-4a84-41a9-b36b-bdc58ba22a3d",
   "metadata": {},
   "outputs": [],
   "source": []
  },
  {
   "cell_type": "code",
   "execution_count": null,
   "id": "e254c956-a559-41d4-9a4d-d1eed563a1bf",
   "metadata": {},
   "outputs": [],
   "source": [
    "Q3. Write a Python function to calculate the probability density function of a normal distribution with\n",
    "given mean and standard deviation at a given point."
   ]
  },
  {
   "cell_type": "code",
   "execution_count": 6,
   "id": "0bca0911-4873-4095-a5d9-7af904c702da",
   "metadata": {},
   "outputs": [
    {
     "name": "stdout",
     "output_type": "stream",
     "text": [
      "0.0804410163156249\n"
     ]
    }
   ],
   "source": [
    "from scipy.stats import norm\n",
    "import numpy as np\n",
    "\n",
    "data_start = -5\n",
    "data_end = 5\n",
    "data_points = 11\n",
    "data = np.linspace(data_start, data_end, data_points)\n",
    "\n",
    "mean = np.mean(data)\n",
    "std = np.std(data)\n",
    "\n",
    "probability_pdf = norm.pdf(3, loc=mean, scale=std)\n",
    "print(probability_pdf)\n"
   ]
  },
  {
   "cell_type": "code",
   "execution_count": 8,
   "id": "cfb673d0-5f75-4b63-b2a7-7de261ecd324",
   "metadata": {},
   "outputs": [
    {
     "data": {
      "text/plain": [
       "array([-5., -4., -3., -2., -1.,  0.,  1.,  2.,  3.,  4.,  5.])"
      ]
     },
     "execution_count": 8,
     "metadata": {},
     "output_type": "execute_result"
    }
   ],
   "source": [
    "data"
   ]
  },
  {
   "cell_type": "code",
   "execution_count": 6,
   "id": "18516938-4aee-4649-b2b7-0b84fbbaaf5d",
   "metadata": {},
   "outputs": [
    {
     "data": {
      "text/plain": [
       "0.0"
      ]
     },
     "execution_count": 6,
     "metadata": {},
     "output_type": "execute_result"
    }
   ],
   "source": [
    "mean"
   ]
  },
  {
   "cell_type": "code",
   "execution_count": 7,
   "id": "bbb659f0-2088-4748-b480-a31689b562da",
   "metadata": {},
   "outputs": [
    {
     "data": {
      "text/plain": [
       "3.1622776601683795"
      ]
     },
     "execution_count": 7,
     "metadata": {},
     "output_type": "execute_result"
    }
   ],
   "source": [
    "std"
   ]
  },
  {
   "cell_type": "code",
   "execution_count": null,
   "id": "d240f8c4-7f31-483a-bfaa-9f13333e0bcc",
   "metadata": {},
   "outputs": [],
   "source": []
  },
  {
   "cell_type": "markdown",
   "id": "caa9c711-f6c9-4b80-97fb-e4721e676d02",
   "metadata": {},
   "source": [
    "Q4. What are the properties of Binomial distribution? Give two examples of events where binomial\n",
    "distribution can be applied."
   ]
  },
  {
   "cell_type": "markdown",
   "id": "5153e36a-caea-4404-bbb6-8b9c7c2ff5e7",
   "metadata": {},
   "source": [
    "the binomial distribution is the probability distribution that is discrete and applicable to events having only two possible results in an experiment, either success or failure. (the prefix “bi” means two, or twice). A few circumstances where we have binomial experiments are tossing a coin: head or tail, the result of a test: pass or fail, selected in an interview: yes/ no, or nature of the product: defective/non-defective. Such a distribution of a binomial random variable is called a binomial probability distribution."
   ]
  },
  {
   "cell_type": "code",
   "execution_count": null,
   "id": "bc26e25e-303e-4711-9686-4bd8e561637e",
   "metadata": {},
   "outputs": [],
   "source": []
  },
  {
   "cell_type": "markdown",
   "id": "4eeb95f5-03b0-4ffb-8e93-4cfd02c2a579",
   "metadata": {},
   "source": [
    "Q5. Generate a random sample of size 1000 from a binomial distribution with probability of success 0.4\n",
    "and plot a histogram of the results using matplotlib."
   ]
  },
  {
   "cell_type": "markdown",
   "id": "eba6109c-1d4b-48b1-ad8c-a50ba11372a2",
   "metadata": {},
   "source": [
    "We use the numpy library to generate a random sample of size 1000 from a binomial distribution using the np.random.binomial() function. This function takes two arguments: n (the number of trials) and p (the probability of success).\n",
    "We then use the matplotlib library to plot a histogram of the sample using the plt.hist() function. We set the number of bins to 20 using the bins parameter, and label the x-axis and y-axis using the plt.xlabel() and plt.ylabel() functions, respectively. Finally, we set the title of the plot using the plt.title() function.\n",
    "We show the plot using the plt.show() function."
   ]
  },
  {
   "cell_type": "code",
   "execution_count": 3,
   "id": "27347d42-07c7-45bf-af2b-0f1e879ffa29",
   "metadata": {},
   "outputs": [
    {
     "data": {
      "image/png": "[encoded data removed]",
      "text/plain": [
       "<Figure size 640x480 with 1 Axes>"
      ]
     },
     "metadata": {},
     "output_type": "display_data"
    }
   ],
   "source": [
    "import numpy as np\n",
    "import matplotlib.pyplot as plt\n",
    "\n",
    "# generate random sample\n",
    "n = 1000  # sample size\n",
    "p = 0.4   # probability of success\n",
    "sample = np.random.binomial(n, p)\n",
    "\n",
    "# plot histogram\n",
    "plt.hist(sample, bins=20)\n",
    "plt.xlabel('Number of successes')\n",
    "plt.ylabel('Frequency')\n",
    "plt.title('Binomial Distribution')\n",
    "plt.show()"
   ]
  },
  {
   "cell_type": "code",
   "execution_count": null,
   "id": "dd2612cd-671c-47dd-ae64-dcd5ca514d80",
   "metadata": {},
   "outputs": [],
   "source": []
  },
  {
   "cell_type": "code",
   "execution_count": null,
   "id": "4dce7591-d159-4fdc-83f6-5955586e3d13",
   "metadata": {},
   "outputs": [],
   "source": []
  },
  {
   "cell_type": "markdown",
   "id": "43f48d24-6890-478d-bbd2-424dadd8b71b",
   "metadata": {},
   "source": [
    "Q6. Write a Python function to calculate the cumulative distribution function of a Poisson distribution\n",
    "with given mean at a given point."
   ]
  },
  {
   "cell_type": "code",
   "execution_count": 32,
   "id": "233d2cc8-b9de-48aa-a7e9-3c06fd81648f",
   "metadata": {},
   "outputs": [
    {
     "data": {
      "text/plain": [
       "array([5, 2, 1, 4, 5, 2, 3, 4, 5, 2])"
      ]
     },
     "execution_count": 32,
     "metadata": {},
     "output_type": "execute_result"
    }
   ],
   "source": [
    "from scipy.stats import poisson\n",
    "\n",
    "#generate random values from Poisson distribution with mean=3 and sample size=10\n",
    "poisson.rvs(mu=3, size=10)\n",
    "calculate probability\n",
    "poisson.cdf(k=5, mu=3)"
   ]
  },
  {
   "cell_type": "code",
   "execution_count": 33,
   "id": "dfaf18e5-b477-43b9-98f4-b789c5abc09d",
   "metadata": {},
   "outputs": [
    {
     "data": {
      "text/plain": [
       "0.9160820579686966"
      ]
     },
     "execution_count": 33,
     "metadata": {},
     "output_type": "execute_result"
    }
   ],
   "source": [
    "#calculate probability\n",
    "poisson.cdf(k=5, mu=3)"
   ]
  },
  {
   "cell_type": "code",
   "execution_count": null,
   "id": "0be30071-c014-4cd7-8401-f91db018ce0e",
   "metadata": {},
   "outputs": [],
   "source": []
  },
  {
   "cell_type": "markdown",
   "id": "c28fdd4b-acf0-4218-972e-e934ae7ab465",
   "metadata": {},
   "source": [
    "Q7. How Binomial distribution different from Poisson distribution?"
   ]
  },
  {
   "cell_type": "markdown",
   "id": "af3e4edf-1843-42af-b14f-bb95fe802f81",
   "metadata": {},
   "source": [
    "Binomial distribution is the one in which the number of outcomes are only 2 and these experiments is perform for N trail. whereas Poisson distribution is the one in which the number of outcomes are unlimited.\n",
    "Poisson distribution describes the distribution of binary data from an infinite sample. Thus it gives the probability of getting r events in a population."
   ]
  },
  {
   "cell_type": "code",
   "execution_count": null,
   "id": "dd4aea5f-a3ea-44ad-9d3f-cdc0bed1bedd",
   "metadata": {},
   "outputs": [],
   "source": []
  },
  {
   "cell_type": "markdown",
   "id": "ca8415b1-ac54-4913-97bd-79d03205cac2",
   "metadata": {},
   "source": [
    "Q8. Generate a random sample of size 1000 from a Poisson distribution with mean 5 and calculate the\n",
    "sample mean and variance."
   ]
  },
  {
   "cell_type": "code",
   "execution_count": 23,
   "id": "081b76fe-7967-404a-bffb-d106805ab138",
   "metadata": {},
   "outputs": [],
   "source": [
    "from scipy.stats import poisson\n",
    "sampl =poisson.rvs(mu=5, size=1000)\n",
    "samplmean= np.mean(sampl)\n",
    "samplvar=np.var(sampl)"
   ]
  },
  {
   "cell_type": "code",
   "execution_count": 24,
   "id": "e047a2d5-6335-48d6-af07-9eb445a4ffdf",
   "metadata": {},
   "outputs": [
    {
     "data": {
      "text/plain": [
       "4.937"
      ]
     },
     "execution_count": 24,
     "metadata": {},
     "output_type": "execute_result"
    }
   ],
   "source": [
    "samplmean"
   ]
  },
  {
   "cell_type": "code",
   "execution_count": 25,
   "id": "6ea6a886-d2c9-4746-bc3a-4a38173cef36",
   "metadata": {},
   "outputs": [
    {
     "data": {
      "text/plain": [
       "4.961031000000001"
      ]
     },
     "execution_count": 25,
     "metadata": {},
     "output_type": "execute_result"
    }
   ],
   "source": [
    "samplvar"
   ]
  },
  {
   "cell_type": "markdown",
   "id": "8863eb5d-ec22-4d7a-b963-5b7ae64454bf",
   "metadata": {},
   "source": [
    "Other way"
   ]
  },
  {
   "cell_type": "code",
   "execution_count": 11,
   "id": "927fe731-6605-407f-a578-2e75bfdde954",
   "metadata": {},
   "outputs": [
    {
     "name": "stdout",
     "output_type": "stream",
     "text": [
      " Sample mean:5.124000\n",
      " Sample var:5.242624\n"
     ]
    }
   ],
   "source": [
    "sample= np.random.poisson(5, size=1000)\n",
    "mean= np.mean(sample)\n",
    "var= np.var(sample)\n",
    "\n",
    "print(f\" Sample mean:{mean:2f}\")\n",
    "print(f\" Sample var:{var:2f}\")"
   ]
  },
  {
   "cell_type": "code",
   "execution_count": null,
   "id": "4931f302-ac1e-48b5-8f62-18a53fd2bffb",
   "metadata": {},
   "outputs": [],
   "source": []
  },
  {
   "cell_type": "code",
   "execution_count": null,
   "id": "31a3dff7-fe5e-43ba-9b8b-a544c3e7fabf",
   "metadata": {},
   "outputs": [],
   "source": []
  },
  {
   "cell_type": "markdown",
   "id": "28a8b894-c2fe-412b-a541-2536c59b3ff1",
   "metadata": {},
   "source": [
    "Q9. How mean and variance are related in Binomial distribution and Poisson distribution?"
   ]
  },
  {
   "cell_type": "markdown",
   "id": "fa6f7535-549b-4620-8a79-61dc7ab37557",
   "metadata": {},
   "source": [
    "The mean of the binomial distribution is μ = np, and the variance of the binomial distribution is σ2=npq."
   ]
  },
  {
   "cell_type": "markdown",
   "id": "82229885-3417-41bc-b889-21598a7c9725",
   "metadata": {},
   "source": [
    "The expected value of the Poisson distribution is given as follows: E(x) = μ = d(eλ(t-1))/dt, at t=1. Therefore, the expected value (mean) and the variance of the Poisson distribution is equal to λ."
   ]
  },
  {
   "cell_type": "markdown",
   "id": "871d460a-d4b0-4d9a-9acc-489dad2d7bfc",
   "metadata": {},
   "source": [
    "Q10. In normal distribution with respect to mean position, where does the least frequent data appear?"
   ]
  },
  {
   "cell_type": "markdown",
   "id": "9c88d161-098f-40c6-96c3-6b0a5afc10be",
   "metadata": {},
   "source": [
    "The empirical rule for normal distributions describes where most of the data in a normal distribution will appear, and it states the following: 68.2% of the observations will appear within +/-1 standard deviation of the mean; 95.4% of the observations will fall within +/-2 standard"
   ]
  },
  {
   "cell_type": "code",
   "execution_count": null,
   "id": "d03396e3-6254-4be0-b723-36fc077c01c6",
   "metadata": {},
   "outputs": [],
   "source": []
  },
  {
   "cell_type": "code",
   "execution_count": null,
   "id": "39ea4e4d-e24d-4507-94f1-fd8c50ff923c",
   "metadata": {},
   "outputs": [],
   "source": []
  }
 ],
 "metadata": {
  "kernelspec": {
   "display_name": "Python 3 (ipykernel)",
   "language": "python",
   "name": "python3"
  },
  "language_info": {
   "codemirror_mode": {
    "name": "ipython",
    "version": 3
   },
   "file_extension": ".py",
   "mimetype": "text/x-python",
   "name": "python",
   "nbconvert_exporter": "python",
   "pygments_lexer": "ipython3",
   "version": "3.10.8"
  }
 },
 "nbformat": 4,
 "nbformat_minor": 5
}
